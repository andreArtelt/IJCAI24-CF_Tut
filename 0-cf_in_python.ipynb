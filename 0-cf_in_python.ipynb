{
 "cells": [
  {
   "cell_type": "markdown",
   "metadata": {},
   "source": [
    "# Hands-On: Counterfactual Explanations in Python\n",
    "\n",
    "Popular Python packages for computing counterfactual explanations:\n",
    "- [DiCE](https://github.com/interpretml/DiCE) -- general algorithms (incl. diversity)\n",
    "- [CARLA](https://github.com/carla-recourse/CARLA) -- many algorithms (incl. causality)\n",
    "- [Alibi](https://github.com/SeldonIO/alibi) -- Counterfactual Guided by Prototypes (outdated tensorflow version!)\n",
    "- [CEML](https://github.com/andreArtelt/ceml) -- model-specific algorithms (incl. plausibility)\n",
    "- ...\n",
    "\n",
    "We consider the (toy) problem of explaining breast cancer predictions made by a random forest classifier.\n",
    "In this context, we demonstrate how to\n",
    "1. Implement a nearest neighbor CF baseline\n",
    "2. Use DiCE for computing diverse CFs"
   ]
  },
  {
   "cell_type": "code",
   "execution_count": null,
   "metadata": {},
   "outputs": [],
   "source": [
    "%pip install dice-ml scikit-learn matplotlib"
   ]
  },
  {
   "cell_type": "code",
   "execution_count": null,
   "metadata": {},
   "outputs": [],
   "source": [
    "%pip install \"numpy<2\""
   ]
  },
  {
   "cell_type": "code",
   "execution_count": null,
   "metadata": {},
   "outputs": [],
   "source": [
    "from typing import Callable\n",
    "import dice_ml\n",
    "import numpy as np\n",
    "import pandas as pd\n",
    "import matplotlib.pyplot as plt\n",
    "from sklearn.datasets import load_breast_cancer\n",
    "from sklearn.model_selection import train_test_split\n",
    "from sklearn.metrics import f1_score\n",
    "from sklearn.ensemble import RandomForestClassifier"
   ]
  },
  {
   "cell_type": "code",
   "execution_count": null,
   "metadata": {},
   "outputs": [],
   "source": [
    "# Helper function for plotting CFs\n",
    "def plot_barplot(x, labels):\n",
    "    fig, ax = plt.subplots()\n",
    "    ax.barh(labels, x, align='center', height=0.5)\n",
    "    plt.show()"
   ]
  },
  {
   "cell_type": "markdown",
   "metadata": {},
   "source": [
    "### Problem Setup\n",
    "\n",
    "Breast cancer prediction using a random forest classifier.\n",
    "\n",
    "1. Load data set\n",
    "2. Split into train and test set\n",
    "3. Train random forest classifier\n",
    "4. Evalute classifier"
   ]
  },
  {
   "cell_type": "markdown",
   "metadata": {},
   "source": [
    "#### 1. Load data set"
   ]
  },
  {
   "cell_type": "code",
   "execution_count": null,
   "metadata": {},
   "outputs": [],
   "source": [
    "# Get feature names of breast cancer data set\n",
    "df_data = load_breast_cancer(as_frame=True)\n",
    "feature_names, target_names = list(df_data.feature_names), list(df_data.target_names)\n",
    "\n",
    "feature_names, target_names"
   ]
  },
  {
   "cell_type": "code",
   "execution_count": null,
   "metadata": {},
   "outputs": [],
   "source": [
    "# Load breast cancer data set\n",
    "X, y = load_breast_cancer(return_X_y=True)\n",
    "\n",
    "X.shape, y.shape"
   ]
  },
  {
   "cell_type": "markdown",
   "metadata": {},
   "source": [
    "#### 2. Split into train and test set"
   ]
  },
  {
   "cell_type": "code",
   "execution_count": null,
   "metadata": {},
   "outputs": [],
   "source": [
    "X_train, X_test, y_train, y_test = train_test_split(X, y, test_size=.3, shuffle=True)  # 30% test data\n",
    "\n",
    "X_train.shape, y_train.shape, X_test.shape, y_test.shape"
   ]
  },
  {
   "cell_type": "markdown",
   "metadata": {},
   "source": [
    "#### 3. Train random forest classifier"
   ]
  },
  {
   "cell_type": "code",
   "execution_count": null,
   "metadata": {},
   "outputs": [],
   "source": [
    "clf = RandomForestClassifier()\n",
    "clf.fit(X_train, y_train)"
   ]
  },
  {
   "cell_type": "code",
   "execution_count": null,
   "metadata": {},
   "outputs": [],
   "source": [
    "y_train_pred = clf.predict(X_train)"
   ]
  },
  {
   "cell_type": "markdown",
   "metadata": {},
   "source": [
    "#### 4. Evalute classifier"
   ]
  },
  {
   "cell_type": "code",
   "execution_count": null,
   "metadata": {},
   "outputs": [],
   "source": [
    "y_test_pred = clf.predict(X_test)\n",
    "f1_score(y_test, y_test_pred)"
   ]
  },
  {
   "cell_type": "markdown",
   "metadata": {},
   "source": [
    "#### Pick samples to be explained\n",
    "\n",
    "We want to explain all malignant predictions!"
   ]
  },
  {
   "cell_type": "code",
   "execution_count": null,
   "metadata": {},
   "outputs": [],
   "source": [
    "# Negative classified samples -- i.e. y = 0 => malignant\n",
    "idx = y_test_pred == 0\n",
    "X_test_neg = X_test[idx, :]"
   ]
  },
  {
   "cell_type": "code",
   "execution_count": null,
   "metadata": {},
   "outputs": [],
   "source": [
    "X_test_neg.shape"
   ]
  },
  {
   "cell_type": "code",
   "execution_count": null,
   "metadata": {},
   "outputs": [],
   "source": []
  },
  {
   "cell_type": "markdown",
   "metadata": {},
   "source": [
    "## A simple baselines: Nearest Neighbor Counterfactuals\n",
    "\n",
    "Assuming a set of (labeled) samples is available -- e.g. training/validation/test data set. The Nearest Neighbor (also called *Nearest Unlike Neighbor*) Counterfactual corresponds to the closest sample from this test labeled with the resquested prediction:\n",
    "\n",
    "$$\\vec{x}_{cf} = \\underset{\\vec{x}_i\\in D \\mid y_i = y_{cf}}{\\argmin} d(\\vec{x}_{cf}, \\vec{x}_i)$$\n",
    "\n",
    "This simple method often constitures a surprisingly good baseline for plausible counterfactual explanations."
   ]
  },
  {
   "cell_type": "code",
   "execution_count": null,
   "metadata": {},
   "outputs": [],
   "source": [
    "# Different distance functions for measuring closeness/proximity to the original sample\n",
    "def get_dist_func(desc: str, epsilon=1e-3) -> Callable[[np.ndarray, np.ndarray], float]:\n",
    "    if desc == \"l0\":\n",
    "        return lambda x_orig, x_cf: np.sum(np.abs(x_orig - x_cf) < epsilon)\n",
    "    elif desc == \"l1\":\n",
    "        return lambda x_orig, x_cf: np.sum(np.abs(x_orig - x_cf))\n",
    "    elif desc == \"l2\":\n",
    "        return lambda x_orig, x_cf: np.sum(np.square(x_orig - x_cf))\n",
    "    else:\n",
    "        raise ValueError(f\"Unknown distance function '{desc}'\")"
   ]
  },
  {
   "cell_type": "code",
   "execution_count": null,
   "metadata": {},
   "outputs": [],
   "source": [
    "# Nearest Neighbor Counterfactual\n",
    "class NearestNeighborCF():\n",
    "    def __init__(self, clf, X_train: np.ndarray, y_train: np.ndarray, dist=\"l1\"):\n",
    "        self.clf = clf\n",
    "\n",
    "        y_pred = clf.predict(X_train)\n",
    "        mask = y_pred == y_train    # Limit the feasible set to correctly classified samples, assuming the label is available\n",
    "        self.X = X_train[mask, :]\n",
    "        self.y = y_train[mask]\n",
    "\n",
    "        self.dist = dist\n",
    "        if not callable(self.dist):\n",
    "            self.dist = get_dist_func(dist)\n",
    "\n",
    "    def compute_counterfactual(self, x_orig: np.ndarray, y_target: int) -> np.ndarray:\n",
    "        # Potential target samples\n",
    "        mask = self.y == y_target\n",
    "        X_ = self.X[mask, :]\n",
    "\n",
    "        # Find closest samples with the requested prediction\n",
    "        X_diff = X_ - x_orig\n",
    "        dist = [self.dist(x_orig, X_[i, :]) for i in range(X_diff.shape[0])]\n",
    "        idx = np.argmin(dist)\n",
    "\n",
    "        return X_[idx, :]\n",
    "\n",
    "    def compute_delta_cf(self, x: np.ndarray, y_target: int) -> np.ndarray:\n",
    "        return self.compute_counterfactual(x, y_target) - x\n",
    "    \n",
    "    def compute_counterfactual_batch(self, X_orig: np.ndarray, y_target: np.ndarray) -> np.ndarray:\n",
    "        X_cf = []\n",
    "\n",
    "        for i in range(X_orig.shape[0]):\n",
    "            X_cf.append(self.compute_counterfactual(X_orig[i, :], y_target[i]))\n",
    "\n",
    "        return np.array(X_cf)\n",
    "    \n",
    "    def compute_delta_cf_batch(self, X_orig: np.ndarray, y_target: np.ndarray) -> np.ndarray:\n",
    "        Delta_cf = []\n",
    "\n",
    "        for i in range(X_orig.shape[0]):\n",
    "            Delta_cf.append(self.compute_counterfactual(X_orig[i, :], y_target[i]) - X_orig[i, :])\n",
    "        \n",
    "        return np.array(Delta_cf)"
   ]
  },
  {
   "cell_type": "markdown",
   "metadata": {},
   "source": [
    "#### Compute Counterfactual Explanations"
   ]
  },
  {
   "cell_type": "code",
   "execution_count": null,
   "metadata": {},
   "outputs": [],
   "source": [
    "cf_baseline = NearestNeighborCF(clf, X_train, y_train)"
   ]
  },
  {
   "cell_type": "code",
   "execution_count": null,
   "metadata": {},
   "outputs": [],
   "source": [
    "X_cf = cf_baseline.compute_counterfactual_batch(X_orig=X_test_neg,\n",
    "                                                y_target=np.array([1] * X_test_neg.shape[0]))  # Flip prediction from 0 -> 1 for every query sample"
   ]
  },
  {
   "cell_type": "markdown",
   "metadata": {},
   "source": [
    "Inspect first counterfactual"
   ]
  },
  {
   "cell_type": "code",
   "execution_count": null,
   "metadata": {},
   "outputs": [],
   "source": [
    "X_cf[0, :]"
   ]
  },
  {
   "cell_type": "markdown",
   "metadata": {},
   "source": [
    "Compute and inspect changes delta"
   ]
  },
  {
   "cell_type": "code",
   "execution_count": null,
   "metadata": {},
   "outputs": [],
   "source": [
    "Delta_cf = cf_baseline.compute_delta_cf_batch(X_orig=X_test_neg,\n",
    "                                              y_target=np.array([1] * X_test_neg.shape[0]))"
   ]
  },
  {
   "cell_type": "code",
   "execution_count": null,
   "metadata": {},
   "outputs": [],
   "source": [
    "Delta_cf[0, :]"
   ]
  },
  {
   "cell_type": "code",
   "execution_count": null,
   "metadata": {},
   "outputs": [],
   "source": [
    "np.round(Delta_cf[0, :], 1)"
   ]
  },
  {
   "cell_type": "markdown",
   "metadata": {},
   "source": [
    "Visualize the counterfactual"
   ]
  },
  {
   "cell_type": "code",
   "execution_count": null,
   "metadata": {},
   "outputs": [],
   "source": [
    "plot_barplot(Delta_cf[0, :], feature_names)"
   ]
  },
  {
   "cell_type": "code",
   "execution_count": null,
   "metadata": {},
   "outputs": [],
   "source": []
  },
  {
   "cell_type": "markdown",
   "metadata": {},
   "source": [
    "## DiCE: Diverse Counterfactual Explanations\n",
    "\n",
    "#### Pre-requisits\n",
    "\n",
    "1. Predictive model (e.g. classifier)\n",
    "2. (Training) data set (as a pandas [DataFrame](https://pandas.pydata.org/docs/reference/api/pandas.DataFrame.html))\n",
    "3. Query sample(s) -- i.e. sample(s) for which we want to generate a CF\n",
    "\n",
    "#### How to use DiCE\n",
    "\n",
    "1. Wrap (training) data set as a [dice_ml.Data](https://interpret.ml/DiCE/dice_ml.html#dice_ml.data.Data) instance\n",
    "2. Wrap predictive model as a [dice_ml.Model](https://interpret.ml/DiCE/dice_ml.html#dice_ml.model.Model) instance\n",
    "3. Wrap query samples as a pandas [DataFrame](https://pandas.pydata.org/docs/reference/api/pandas.DataFrame.html)\n",
    "4. Compute CFs by using creating a [dice_ml.Dice](https://interpret.ml/DiCE/dice_ml.html#dice_ml.dice.Dice) instance and calling the [generate_counterfactuals()](https://interpret.ml/DiCE/dice_ml.explainer_interfaces.html#dice_ml.explainer_interfaces.explainer_base.ExplainerBase.generate_counterfactuals) function"
   ]
  },
  {
   "cell_type": "markdown",
   "metadata": {},
   "source": [
    "#### 1. Wrap (training) data set as a [dice_ml.Data](https://interpret.ml/DiCE/dice_ml.html#dice_ml.data.Data) instance"
   ]
  },
  {
   "cell_type": "code",
   "execution_count": null,
   "metadata": {},
   "outputs": [],
   "source": [
    "X_df = pd.DataFrame(X_train, columns=feature_names)\n",
    "y_df = pd.DataFrame(y_train_pred, columns=[\"y\"]).astype(np.int32)  # Alternative, use only correctly classified samples!\n",
    "data_df = pd.concat([X_df, y_df], axis=1)\n",
    "\n",
    "data = dice_ml.Data(dataframe=data_df,\n",
    "                    continuous_features=feature_names,  # All feature are continous!\n",
    "                    outcome_name='y')"
   ]
  },
  {
   "cell_type": "markdown",
   "metadata": {},
   "source": [
    "#### 2. Wrap predictive model as a [dice_ml.Model](https://interpret.ml/DiCE/dice_ml.html#dice_ml.model.Model) instance"
   ]
  },
  {
   "cell_type": "code",
   "execution_count": null,
   "metadata": {},
   "outputs": [],
   "source": [
    "model = dice_ml.Model(model=clf, backend='sklearn')"
   ]
  },
  {
   "cell_type": "markdown",
   "metadata": {},
   "source": [
    "#### 3. Wrap query samples as a pandas [DataFrame](https://pandas.pydata.org/docs/reference/api/pandas.DataFrame.html)"
   ]
  },
  {
   "cell_type": "code",
   "execution_count": null,
   "metadata": {},
   "outputs": [],
   "source": [
    "X_queries = pd.DataFrame(X_test_neg, columns=feature_names)"
   ]
  },
  {
   "cell_type": "markdown",
   "metadata": {},
   "source": [
    "#### 4. Compute CFs by using creating a [dice_ml.Dice](https://interpret.ml/DiCE/dice_ml.html#dice_ml.dice.Dice) instance and calling the [generate_counterfactuals()](https://interpret.ml/DiCE/dice_ml.explainer_interfaces.html#dice_ml.explainer_interfaces.explainer_base.ExplainerBase.generate_counterfactuals) function"
   ]
  },
  {
   "cell_type": "code",
   "execution_count": null,
   "metadata": {},
   "outputs": [],
   "source": [
    "cf_algo = dice_ml.Dice(data, model, method=\"genetic\")   # Evolutionary algorithm for computing CFs -- see documentation for alternatives!\n",
    "\n",
    "cf_results = cf_algo.generate_counterfactuals(X_queries,\n",
    "                                              total_CFs=3,        # 3 diverse CFs\n",
    "                                              desired_class=\"opposite\",  # Flip prediction!\n",
    "                                              verbose=False)"
   ]
  },
  {
   "cell_type": "code",
   "execution_count": null,
   "metadata": {},
   "outputs": [],
   "source": [
    "cf_results"
   ]
  },
  {
   "cell_type": "code",
   "execution_count": null,
   "metadata": {},
   "outputs": [],
   "source": [
    "#cf_results.visualize_as_dataframe()"
   ]
  },
  {
   "cell_type": "code",
   "execution_count": null,
   "metadata": {},
   "outputs": [],
   "source": [
    "len(cf_results.cf_examples_list)"
   ]
  },
  {
   "cell_type": "markdown",
   "metadata": {},
   "source": [
    "Inspect CFs of the first query sample"
   ]
  },
  {
   "cell_type": "code",
   "execution_count": null,
   "metadata": {},
   "outputs": [],
   "source": [
    "cf_results.cf_examples_list[0].final_cfs_df"
   ]
  },
  {
   "cell_type": "markdown",
   "metadata": {},
   "source": [
    "Export to [NumPy arrays](https://numpy.org/doc/stable/reference/generated/numpy.array.html)"
   ]
  },
  {
   "cell_type": "code",
   "execution_count": null,
   "metadata": {},
   "outputs": [],
   "source": [
    "X_cf = cf_results.cf_examples_list[0].final_cfs_df[feature_names].to_numpy() "
   ]
  },
  {
   "cell_type": "code",
   "execution_count": null,
   "metadata": {},
   "outputs": [],
   "source": [
    "X_cf"
   ]
  },
  {
   "cell_type": "markdown",
   "metadata": {},
   "source": [
    "Compute change vector"
   ]
  },
  {
   "cell_type": "code",
   "execution_count": null,
   "metadata": {},
   "outputs": [],
   "source": [
    "X_cf - X_test_neg[0, :] "
   ]
  },
  {
   "cell_type": "code",
   "execution_count": null,
   "metadata": {},
   "outputs": [],
   "source": [
    "np.round(X_cf - X_test_neg[0, :], 1)"
   ]
  },
  {
   "cell_type": "markdown",
   "metadata": {},
   "source": [
    "Visualize the counterfactual (i.e. change vector)"
   ]
  },
  {
   "cell_type": "code",
   "execution_count": null,
   "metadata": {},
   "outputs": [],
   "source": [
    "plot_barplot(X_cf[0, :] - X_test_neg[0, :], feature_names)"
   ]
  },
  {
   "cell_type": "code",
   "execution_count": null,
   "metadata": {},
   "outputs": [],
   "source": []
  }
 ],
 "metadata": {
  "kernelspec": {
   "display_name": "ijcaitut",
   "language": "python",
   "name": "python3"
  },
  "language_info": {
   "codemirror_mode": {
    "name": "ipython",
    "version": 3
   },
   "file_extension": ".py",
   "mimetype": "text/x-python",
   "name": "python",
   "nbconvert_exporter": "python",
   "pygments_lexer": "ipython3",
   "version": "3.9.19"
  }
 },
 "nbformat": 4,
 "nbformat_minor": 2
}
